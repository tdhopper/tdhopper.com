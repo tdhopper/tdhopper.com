{
 "cells": [
  {
   "cell_type": "markdown",
   "metadata": {
    "collapsed": false,
    "deletable": true,
    "editable": true
   },
   "source": [
    "I wrote [a few months back](http://tdhopper.com/blog/2016/Nov/15/data-scientists-need-more-automation/) about how data scientists need more automation. In particular, I suggested that data scientists would be wise to learn more about automated system configuration and automated deployments. \n",
    "\n",
    "In an attempt to take my own advice, I've finally been making myself learn [Ansible](https://www.ansible.com/). It turns out that a great way to learn it is to sit down and read through the docs, front to back; I commend that tactic to you. I also put together this tutorial to walk through a practical example of how a working data scientist might use this powerful tool. \n",
    "\n",
    "What follows is an Ansible guide that will take you from installing Ansible to automatically deploying a long-running Python to a remote machine and running it in a [Conda environment](https://conda.io/docs/using/envs.html) using [supervisord](http://supervisord.org/). It presumes your development machine is on OS X and the remote machine is Debian-like; however, it shouldn't require too many changes to run it on other systems.\n",
    "\n",
    "I wrote this post in a Jupyter notebook with a Bash kernel. You can find the notebook, Ansible files, and installation directions on [my Github](https://github.com/tdhopper/automating_python). \n",
    "\n",
    "\n",
    "### Ansible\n",
    "\n",
    "Ansible provides \"human readable automation\" for \"app deployment\" and \"configuration management\". Unlike tools like Chef, it doesn't require an agent to be running on remote machines. In short, it translates declarative YAML files into shell commands and runs them on your machines over SSH.\n",
    "\n",
    "Ansible is backed by Red Hat and has a great [website](https://www.ansible.com/). "
   ]
  },
  {
   "cell_type": "markdown",
   "metadata": {
    "deletable": true,
    "editable": true
   },
   "source": [
    "### Installing Ansible with Homebrew \n",
    "\n",
    "First, you'll need to [install Ansible](http://docs.ansible.com/ansible/intro_installation.html). On a Mac, I recommend doing this with [Homebrew](https://brew.sh/)."
   ]
  },
  {
   "cell_type": "code",
   "execution_count": 2,
   "metadata": {
    "collapsed": false,
    "deletable": true,
    "editable": true
   },
   "outputs": [
    {
     "name": "stdout",
     "output_type": "stream",
     "text": [
      "\u001b[4;33mWarning\u001b[0m: ansible-2.1.0.0 already installed\n",
      "\u001b[4;33mWarning\u001b[0m: You are using OS X 10.12.\n",
      "We do not provide support for this pre-release version.\n",
      "You may encounter build failures or other breakages.\n"
     ]
    },
    {
     "ename": "",
     "evalue": "1",
     "output_type": "error",
     "traceback": []
    }
   ],
   "source": [
    "brew install ansible"
   ]
  },
  {
   "cell_type": "markdown",
   "metadata": {
    "deletable": true,
    "editable": true
   },
   "source": [
    "### Quickstart\n",
    "\n",
    "Soon, I'll show you how to put write an Ansible YAML file. However, Ansible also allows you specify tasks from the command line. \n",
    "\n",
    "Here's how we could use Ansible ping our local host:"
   ]
  },
  {
   "cell_type": "code",
   "execution_count": 3,
   "metadata": {
    "collapsed": false,
    "deletable": true,
    "editable": true
   },
   "outputs": [
    {
     "name": "stdout",
     "output_type": "stream",
     "text": [
      "ansible -i 'localhost,' -c local -m ping all\n",
      "\u001b[0;32mlocalhost | SUCCESS => {\n",
      "    \"changed\": false, \n",
      "    \"ping\": \"pong\"\n",
      "}\u001b[0m\n"
     ]
    },
    {
     "ename": "",
     "evalue": "1",
     "output_type": "error",
     "traceback": []
    }
   ],
   "source": [
    "ansible -i 'localhost,' -c local -m ping all"
   ]
  },
  {
   "cell_type": "markdown",
   "metadata": {
    "deletable": true,
    "editable": true
   },
   "source": [
    "This command calls ansible and tells it:\n",
    "* To use `localhost` as it's inventory (`-i`). Inventory is Ansible speak for machine or machines you want to be able to run commands on. \n",
    "* To connect (`-c`) locally (`local`) instead of over SSH. \n",
    "* To run the [`ping` module](http://docs.ansible.com/ansible/ping_module.html) (`-m`) to test the connection.\n",
    "* To run the command on `all` hosts in the inventory (in this case, our inventory is just the `localhost`).\n",
    "\n",
    "[Michael Booth](http://www.mechanicalfish.net/start-learning-ansible-with-one-line-and-no-files/) has a [post](http://www.mechanicalfish.net/start-learning-ansible-with-one-line-and-no-files/) that goes into more detail about this command.\n",
    "\n",
    "Behind the scenes, Ansible is turning this `-m ping` command into shell commands. (Try running with the `-vvv` flag to see what's happening behind the scenes.) It can also execute arbitrary commands; by default, it'll use the Bourne shell `sh`. "
   ]
  },
  {
   "cell_type": "code",
   "execution_count": 4,
   "metadata": {
    "collapsed": false,
    "deletable": true,
    "editable": true
   },
   "outputs": [],
   "source": [
    "ansible all -i 'localhost, ' -c local -a \"/bin/echo hello\" "
   ]
  },
  {
   "cell_type": "markdown",
   "metadata": {
    "deletable": true,
    "editable": true
   },
   "source": [
    "### Setting up an Ansible Inventory\n",
    "\n",
    "Instead of specifying our inventory with the `-i` flag each time, we should specify an Ansible inventory file. This file is a text file specifying machines you have SSH access to; you can also group machines under bracketed headings. For example:\n",
    "\n",
    "```\n",
    "mail.example.com\n",
    "\n",
    "[webservers]\n",
    "foo.example.com\n",
    "bar.example.com\n",
    "\n",
    "[dbservers]\n",
    "one.example.com\n",
    "two.example.com\n",
    "three.example.com\n",
    "```\n",
    "\n",
    "Ansible has to be able to connect to these machines over SSH, so you will likely need to have relevant entries in your [`.ssh/config` file](http://nerderati.com/2011/03/17/simplify-your-life-with-an-ssh-config-file/).\n",
    "\n",
    "By default, the Ansible CLI will look for a system-wide Ansible inventory file in `/etc/ansible/hosts`. You can also specify an alternative path for an intentory file with the `-i` flag.\n",
    "\n",
    "For this tutorial, I'd like to have an inventory file specific to the project directory without having to specify it each time we call Ansible. We can do this by creating a file called `./ansible.cfg` and set the name of our local inventory file:"
   ]
  },
  {
   "cell_type": "code",
   "execution_count": 5,
   "metadata": {
    "collapsed": false,
    "deletable": true,
    "editable": true
   },
   "outputs": [
    {
     "name": "stdout",
     "output_type": "stream",
     "text": [
      "cat ./ansible.cfg\n",
      "[defaults]\n",
      "inventory = ./hosts"
     ]
    },
    {
     "ename": "",
     "evalue": "1",
     "output_type": "error",
     "traceback": []
    }
   ],
   "source": [
    "cat ./ansible.cfg"
   ]
  },
  {
   "cell_type": "markdown",
   "metadata": {
    "deletable": true,
    "editable": true
   },
   "source": [
    "You can check that Ansible is picking up your config file by running `ansible --version`."
   ]
  },
  {
   "cell_type": "code",
   "execution_count": 6,
   "metadata": {
    "collapsed": false,
    "deletable": true,
    "editable": true
   },
   "outputs": [
    {
     "name": "stdout",
     "output_type": "stream",
     "text": [
      "ansible --version\n",
      "ansible 2.1.0.0\n",
      "  config file = /Users/tdhopper/repos/automating_python/ansible.cfg\n",
      "  configured module search path = Default w/o overrides\n"
     ]
    },
    {
     "ename": "",
     "evalue": "1",
     "output_type": "error",
     "traceback": []
    }
   ],
   "source": [
    "ansible --version"
   ]
  },
  {
   "cell_type": "markdown",
   "metadata": {
    "deletable": true,
    "editable": true
   },
   "source": [
    "For this example, I just have one host, a [Digital Ocean VPS](https://www.digitalocean.com/). To run the examples below, you should create a VPS instance on Digital Ocean, [Amazon](https://amazonlightsail.com), or elsewhere; you'll want to configure it for [passwordless authentication](https://www.digitalocean.com/community/tutorials/how-to-set-up-ssh-keys--2). I have an entry like this in my `~/.ssh/hosts` file: \n",
    "\n",
    "```\n",
    "Host digitalocean\n",
    "  HostName 45.55.395.23\n",
    "  User root\n",
    "  Port 22\n",
    "  IdentityFile /Users/tdhopper/.ssh/id_rsa\n",
    "  ForwardAgent yes\n",
    "```\n",
    "  \n",
    "and my intentory file (`~/hosts`) is just\n",
    "\n",
    "```\n",
    "digitalocean\n",
    "```\n",
    "\n",
    "Before trying ansible, you should ensure that you can connect to this host:"
   ]
  },
  {
   "cell_type": "code",
   "execution_count": 7,
   "metadata": {
    "collapsed": false,
    "deletable": true,
    "editable": true
   },
   "outputs": [
    {
     "name": "stdout",
     "output_type": "stream",
     "text": [
      "ssh digitalocean echo 1\n",
      "1\n"
     ]
    },
    {
     "ename": "",
     "evalue": "1",
     "output_type": "error",
     "traceback": []
    }
   ],
   "source": [
    "ssh digitalocean echo 1"
   ]
  },
  {
   "cell_type": "markdown",
   "metadata": {
    "deletable": true,
    "editable": true
   },
   "source": [
    "Now I can verify that Ansible can connect to my machine by running the ping command. "
   ]
  },
  {
   "cell_type": "code",
   "execution_count": 8,
   "metadata": {
    "collapsed": false,
    "deletable": true,
    "editable": true
   },
   "outputs": [
    {
     "name": "stdout",
     "output_type": "stream",
     "text": [
      "ansible all -m ping\n",
      "\u001b[0;32mdigitalocean | SUCCESS => {\n",
      "    \"changed\": false, \n",
      "    \"ping\": \"pong\"\n",
      "}\u001b[0m\n"
     ]
    },
    {
     "ename": "",
     "evalue": "1",
     "output_type": "error",
     "traceback": []
    }
   ],
   "source": [
    "ansible all -m ping"
   ]
  },
  {
   "cell_type": "markdown",
   "metadata": {
    "deletable": true,
    "editable": true
   },
   "source": [
    "We told Ansible to run this command on `all` specified hosts in the inventory. It found our inventory by loading the `ansible.cfg` which specified `./hosts` as the inventory file.\n",
    "\n",
    "It's possible that this will fail for you even if you can SSH into the machine. If the error is something like ` /bin/sh: 1: /usr/bin/python: not found`, this is because your VPS doesn't have Python installed on it. You can [install it with Ansible](http://stackoverflow.com/questions/32429259/ansible-fails-with-bin-sh-1-usr-bin-python-not-found), but you may just want to manually run `sudo apt-get -y install python` on the VPS to get started.\n",
    "\n",
    "### Writing our first Playbook\n",
    "\n",
    "While adhoc commands will often be useful, the real power of Ansible comes from creating repeatable sets of instructions called [Playbooks](http://docs.ansible.com/ansible/playbooks.html).\n",
    "\n",
    "A playbook contains a list of \"plays\". Each play specifies a set of tasks to be run and which hosts to run them on. A \"task\" is a call to an Ansible module, like the \"ping\" module we've already seen. Ansible [comes packaged with about 1000 modules](http://docs.ansible.com/ansible/list_of_all_modules.html) for all sorts of use cases. You can also extend it with your own [modules](http://docs.ansible.com/ansible/dev_guide/developing_modules.html) and [roles](http://docs.ansible.com/ansible/playbooks_roles.html#roles).\n",
    "\n",
    "Our first playbook will just execute the ping module on all our hosts. It's a playbook with a single play comprised of a single task."
   ]
  },
  {
   "cell_type": "code",
   "execution_count": 9,
   "metadata": {
    "collapsed": false,
    "deletable": true,
    "editable": true
   },
   "outputs": [
    {
     "name": "stdout",
     "output_type": "stream",
     "text": [
      "cat ping.yml\n",
      "---\n",
      "- hosts: all\n",
      "  tasks:\n",
      "  - name: ping all hosts\n",
      "    ping:"
     ]
    },
    {
     "ename": "",
     "evalue": "1",
     "output_type": "error",
     "traceback": []
    }
   ],
   "source": [
    "cat ping.yml"
   ]
  },
  {
   "cell_type": "markdown",
   "metadata": {
    "deletable": true,
    "editable": true
   },
   "source": [
    "We can run our playbook with the `ansible-playbook` command."
   ]
  },
  {
   "cell_type": "code",
   "execution_count": 10,
   "metadata": {
    "collapsed": false,
    "deletable": true,
    "editable": true
   },
   "outputs": [
    {
     "name": "stdout",
     "output_type": "stream",
     "text": [
      "ansible-playbook ping.yml\n",
      " ____________ \n",
      "< PLAY [all] >\n",
      " ------------ \n",
      "        \\   ^__^\n",
      "         \\  (oo)\\_______\n",
      "            (__)\\       )\\/\\\n",
      "                ||----w |\n",
      "                ||     ||\n",
      "\n",
      " ______________ \n",
      "< TASK [setup] >\n",
      " -------------- \n",
      "        \\   ^__^\n",
      "         \\  (oo)\\_______\n",
      "            (__)\\       )\\/\\\n",
      "                ||----w |\n",
      "                ||     ||\n",
      "\n",
      "\u001b[0;32mok: [digitalocean]\u001b[0m\n",
      " _______________________ \n",
      "< TASK [ping all hosts] >\n",
      " ----------------------- \n",
      "        \\   ^__^\n",
      "         \\  (oo)\\_______\n",
      "            (__)\\       )\\/\\\n",
      "                ||----w |\n",
      "                ||     ||\n",
      "\n",
      "\u001b[0;32mok: [digitalocean]\u001b[0m\n",
      " ____________ \n",
      "< PLAY RECAP >\n",
      " ------------ \n",
      "        \\   ^__^\n",
      "         \\  (oo)\\_______\n",
      "            (__)\\       )\\/\\\n",
      "                ||----w |\n",
      "                ||     ||\n",
      "\n",
      "\u001b[0;32mdigitalocean\u001b[0m               : \u001b[0;32mok\u001b[0m\u001b[0;32m=\u001b[0m\u001b[0;32m2\u001b[0m    changed=0    unreachable=0    failed=0   \n",
      "\n"
     ]
    },
    {
     "ename": "",
     "evalue": "1",
     "output_type": "error",
     "traceback": []
    }
   ],
   "source": [
    "ansible-playbook ping.yml"
   ]
  },
  {
   "cell_type": "markdown",
   "metadata": {
    "deletable": true,
    "editable": true
   },
   "source": [
    "You might wonder why there are cows on your screen. You can find out [here](https://michaelheap.com/cowsay-and-ansible/). However, the important thing is that our task was executed and returned successfully.\n",
    "\n",
    "We can override the hosts list for the play with the `-i` flag to see what the output looks like when Ansible fails to run the play because it can't find the host.\n",
    "\n",
    "Let's work now on installing the dependencies for our Python project. \n",
    "\n",
    "### Installing supervisord\n",
    "\n",
    "\"Supervisor is a client/server system that allows its users to monitor and control a number of processes on UNIX-like operating systems.\" We'll use it to run and monitor our Python process. \n",
    "\n",
    "On a Debian-like system, we can install it with APT. In the Ansible DSL that's just:\n",
    "\n",
    "```\n",
    "- name: Install supervisord\n",
    "  sudo: yes\n",
    "  apt:\n",
    "    name: supervisor\n",
    "    state: present\n",
    "    update_cache: yes\n",
    "```\n",
    "\n",
    "You can read more about the [apt module here](http://docs.ansible.com/ansible/apt_module.html). \n",
    "\n",
    "Once we have it installed, we can start it with this task:\n",
    "\n",
    "```\n",
    "- name: Start supervisord\n",
    "  sudo: yes\n",
    "  service:\n",
    "    name: \"supervisor\"\n",
    "    state: running\n",
    "    enabled: yes\n",
    "```\n",
    "\n",
    "This uses the [service](http://docs.ansible.com/ansible/service_module.html) module.\n",
    "\n",
    "We could add these these tasks to a playbook file (like ping.yml), but what maybe we will want to share it among multiple playbooks? For this, Ansible has a construct called [Roles](http://docs.ansible.com/ansible/playbooks_roles.html). A role is a collection of \"variable values, certain tasks, and certain handlers – or just one or more of these things\". (You can learn more about variables and handlers in the Ansible docs.)\n",
    "\n",
    "Roles are organized as subfolders of a folder called \"Roles\" in the working directory. The rapid proliferation of folders in Ansible organization can be overwhelming, but a very simple rule is just a file called `main.yml` nestled several folders deep. In our case, it's in `./roles/supervisor/tasks/main.yml`.\n",
    "\n",
    "Check out [the docs](http://docs.ansible.com/ansible/playbooks_roles.html#roles) to learn more about role organization.\n",
    "\n",
    "Here's what our roll looks like:"
   ]
  },
  {
   "cell_type": "code",
   "execution_count": 11,
   "metadata": {
    "collapsed": false,
    "deletable": true,
    "editable": true
   },
   "outputs": [
    {
     "name": "stdout",
     "output_type": "stream",
     "text": [
      "cat ./roles/supervisor/tasks/main.yml\n",
      "---\n",
      "\n",
      "- name: Install supervisord\n",
      "  become: true\n",
      "  apt:\n",
      "    name: supervisor\n",
      "    state: present\n",
      "    update_cache: yes\n",
      "  tags:\n",
      "    supervisor\n",
      "- name: Start supervisord\n",
      "  become: true\n",
      "  service:\n",
      "    name: \"supervisor\"\n",
      "    state: running\n",
      "    enabled: yes\n",
      "  tags:\n",
      "    supervisor\n",
      "\n"
     ]
    },
    {
     "ename": "",
     "evalue": "1",
     "output_type": "error",
     "traceback": []
    }
   ],
   "source": [
    "cat ./roles/supervisor/tasks/main.yml"
   ]
  },
  {
   "cell_type": "markdown",
   "metadata": {
    "deletable": true,
    "editable": true
   },
   "source": [
    "Note that I added `tags:` to the task definitions. [Tags](http://docs.ansible.com/ansible/playbooks_tags.html) just allow you to run a portion of a playbook instead of the whole thing with the `--tags` flag for `ansible-playbook`.\n",
    "\n",
    "Now that we have the supervisor install encapsulated in a role, we can write a simple playbook to run the roll."
   ]
  },
  {
   "cell_type": "code",
   "execution_count": 12,
   "metadata": {
    "collapsed": false,
    "deletable": true,
    "editable": true
   },
   "outputs": [
    {
     "name": "stdout",
     "output_type": "stream",
     "text": [
      "cat supervisor.yml\n",
      "---\n",
      "- hosts: digitalocean\n",
      "  roles:\n",
      "    - role: supervisor\n"
     ]
    },
    {
     "ename": "",
     "evalue": "1",
     "output_type": "error",
     "traceback": []
    }
   ],
   "source": [
    "cat supervisor.yml"
   ]
  },
  {
   "cell_type": "code",
   "execution_count": 13,
   "metadata": {
    "collapsed": false,
    "deletable": true,
    "editable": true
   },
   "outputs": [
    {
     "name": "stdout",
     "output_type": "stream",
     "text": [
      "ansible-playbook supervisor.yml\n",
      " _____________________ \n",
      "< PLAY [digitalocean] >\n",
      " --------------------- \n",
      "        \\   ^__^\n",
      "         \\  (oo)\\_______\n",
      "            (__)\\       )\\/\\\n",
      "                ||----w |\n",
      "                ||     ||\n",
      "\n",
      " ______________ \n",
      "< TASK [setup] >\n",
      " -------------- \n",
      "        \\   ^__^\n",
      "         \\  (oo)\\_______\n",
      "            (__)\\       )\\/\\\n",
      "                ||----w |\n",
      "                ||     ||\n",
      "\n",
      "\u001b[0;32mok: [digitalocean]\u001b[0m\n",
      " _________________________________________ \n",
      "< TASK [supervisor : Install supervisord] >\n",
      " ----------------------------------------- \n",
      "        \\   ^__^\n",
      "         \\  (oo)\\_______\n",
      "            (__)\\       )\\/\\\n",
      "                ||----w |\n",
      "                ||     ||\n",
      "\n",
      "\u001b[0;33mchanged: [digitalocean]\u001b[0m\n",
      " _______________________________________ \n",
      "< TASK [supervisor : Start supervisord] >\n",
      " --------------------------------------- \n",
      "        \\   ^__^\n",
      "         \\  (oo)\\_______\n",
      "            (__)\\       )\\/\\\n",
      "                ||----w |\n",
      "                ||     ||\n",
      "\n",
      "\u001b[0;33mchanged: [digitalocean]\u001b[0m\n",
      " ____________ \n",
      "< PLAY RECAP >\n",
      " ------------ \n",
      "        \\   ^__^\n",
      "         \\  (oo)\\_______\n",
      "            (__)\\       )\\/\\\n",
      "                ||----w |\n",
      "                ||     ||\n",
      "\n",
      "\u001b[0;33mdigitalocean\u001b[0m               : \u001b[0;32mok\u001b[0m\u001b[0;32m=\u001b[0m\u001b[0;32m3\u001b[0m    \u001b[0;33mchanged\u001b[0m\u001b[0;33m=\u001b[0m\u001b[0;33m2\u001b[0m    unreachable=0    failed=0   \n",
      "\n"
     ]
    },
    {
     "ename": "",
     "evalue": "1",
     "output_type": "error",
     "traceback": []
    }
   ],
   "source": [
    "ansible-playbook supervisor.yml"
   ]
  },
  {
   "cell_type": "markdown",
   "metadata": {
    "deletable": true,
    "editable": true
   },
   "source": [
    "### Installing Conda with Ansible Galaxy\n",
    "\n",
    "Next we want to ensure that Conda installed on our system. We could write our own role to follow the [recommended process](https://www.continuum.io/downloads). However, Ansible has a helpful tool to help us avoid reinventing the wheel by allowing users to share roles; this is called [Ansible Galaxy](https://galaxy.ansible.com/). \n",
    "\n",
    "You can search the Galaxy website for [miniconda](https://galaxy.ansible.com/list#/roles?page=1&page_size=10&autocomplete=miniconda) and see that a handful of roles for installing Miniconda exist. I liked [this one](https://galaxy.ansible.com/andrewrothstein/miniconda/). \n",
    "\n",
    "We can install the roll locally using the `ansible-galaxy` command line tool."
   ]
  },
  {
   "cell_type": "code",
   "execution_count": 14,
   "metadata": {
    "collapsed": false,
    "deletable": true,
    "editable": true
   },
   "outputs": [],
   "source": [
    "ansible-galaxy install -f andrewrothstein.miniconda"
   ]
  },
  {
   "cell_type": "markdown",
   "metadata": {
    "deletable": true,
    "editable": true
   },
   "source": [
    "You can have the roll installed wherever you want (run `ansible-galaxy install --help` to see how, but by default they'll go to `/usr/local/etc/ansible/roles/`. "
   ]
  },
  {
   "cell_type": "code",
   "execution_count": 15,
   "metadata": {
    "collapsed": false,
    "deletable": true,
    "editable": true
   },
   "outputs": [
    {
     "name": "stdout",
     "output_type": "stream",
     "text": [
      "ls -lh /usr/local/etc/ansible/roles/andrewrothstein.miniconda\n",
      "total 32\n",
      "-rw-rw-r--  1 tdhopper  admin   1.1K Jan 16 16:52 LICENSE\n",
      "-rw-rw-r--  1 tdhopper  admin   666B Jan 16 16:52 README.md\n",
      "-rw-rw-r--  1 tdhopper  admin   973B Jan 16 16:52 circle.yml\n",
      "drwxrwxr-x  3 tdhopper  admin   102B Mar 21 11:33 \u001b[34mdefaults\u001b[39;49m\u001b[0m\n",
      "drwxrwxr-x  3 tdhopper  admin   102B Mar 21 11:33 \u001b[34mhandlers\u001b[39;49m\u001b[0m\n",
      "drwxrwxr-x  4 tdhopper  admin   136B Mar 21 11:33 \u001b[34mmeta\u001b[39;49m\u001b[0m\n",
      "drwxrwxr-x  3 tdhopper  admin   102B Mar 21 11:33 \u001b[34mtasks\u001b[39;49m\u001b[0m\n",
      "drwxrwxr-x  3 tdhopper  admin   102B Mar 21 11:33 \u001b[34mtemplates\u001b[39;49m\u001b[0m\n",
      "-rw-rw-r--  1 tdhopper  admin    57B Jan 16 16:52 test.yml\n",
      "drwxrwxr-x  3 tdhopper  admin   102B Mar 21 11:33 \u001b[34mvars\u001b[39;49m\u001b[0m\n"
     ]
    },
    {
     "ename": "",
     "evalue": "1",
     "output_type": "error",
     "traceback": []
    }
   ],
   "source": [
    "ls -lh /usr/local/etc/ansible/roles/andrewrothstein.miniconda"
   ]
  },
  {
   "cell_type": "markdown",
   "metadata": {
    "deletable": true,
    "editable": true
   },
   "source": [
    "You can look at the `tasks/main.yml` to see the core logic of installing Miniconda. It has tasks to download the installer, run the installer, delete the installer, run `conda update conda`, and make `conda` the default system Python. "
   ]
  },
  {
   "cell_type": "code",
   "execution_count": 16,
   "metadata": {
    "collapsed": false,
    "deletable": true,
    "editable": true
   },
   "outputs": [
    {
     "name": "stdout",
     "output_type": "stream",
     "text": [
      "/main.ymllocal/etc/ansible/roles/andrewrothstein.miniconda/tasks \n",
      "---\n",
      "# tasks file for miniconda\n",
      "- name: download installer...\n",
      "  become: yes\n",
      "  become_user: root\n",
      "  get_url:\n",
      "    url: '{{miniconda_installer_url}}'\n",
      "    dest: /tmp/{{miniconda_installer_sh}}\n",
      "    timeout: '{{miniconda_timeout_seconds}}'\n",
      "    checksum: '{{miniconda_checksum}}'\n",
      "    mode: '0755'\n",
      "\n",
      "- name: installing....\n",
      "  become: yes\n",
      "  become_user: root\n",
      "  command: /tmp/{{miniconda_installer_sh}} -b -p {{miniconda_parent_dir}}/{{miniconda_name}}\n",
      "  args:\n",
      "    creates: '{{miniconda_parent_dir}}/{{miniconda_name}}'\n",
      "\n",
      "- name: deleting installer...\n",
      "  become: yes\n",
      "  become_user: root\n",
      "  when: miniconda_cleanup\n",
      "  file:\n",
      "    path: /tmp/{{miniconda_installer_sh}}\n",
      "    state: absent\n",
      "    \n",
      "- name: link miniconda...\n",
      "  become: yes\n",
      "  become_user: root\n",
      "  file:\n",
      "    dest: '{{miniconda_parent_dir}}/miniconda'\n",
      "    src: '{{miniconda_parent_dir}}/{{miniconda_name}}'\n",
      "    state: link\n",
      "\n",
      "- name: conda updates\n",
      "  become: yes\n",
      "  become_user: root\n",
      "  command: '{{miniconda_parent_dir}}/miniconda/bin/conda update -y --all'\n",
      "\n",
      "- name: make system default python etc...\n",
      "  when: miniconda_make_sys_default\n",
      "  become: yes\n",
      "  become_user: root\n",
      "  with_items:\n",
      "    - etc/profile.d/miniconda.sh\n",
      "  template:\n",
      "    src: '{{item}}.j2'\n",
      "    dest: /{{item}}\n",
      "    mode: 0644\n",
      "    \n"
     ]
    },
    {
     "ename": "",
     "evalue": "1",
     "output_type": "error",
     "traceback": []
    }
   ],
   "source": [
    "cat /usr/local/etc/ansible/roles/andrewrothstein.miniconda/tasks/main.yml"
   ]
  },
  {
   "cell_type": "markdown",
   "metadata": {
    "deletable": true,
    "editable": true,
    "variables": {
     " conda_folder_name ": "<p><em>**</em>: 127</p>\n",
     " conda_root ": "<p><em>**</em>: 127</p>\n",
     " project_location ": "<p><em>**</em>: 127</p>\n",
     " project_repo ": "<p><em>**</em>: 127</p>\n",
     "conda_folder_name": "<p><em>**</em>: 127</p>\n",
     "conda_root": "<p><em>**</em>: 127</p>\n",
     "miniconda_name": "<p><em>**</em>: 127</p>\n",
     "miniconda_parent_dir": "<p><em>**</em>: 127</p>\n"
    }
   },
   "source": [
    "#### Overriding Ansible Variables\n",
    "\n",
    "Once a roll is installed locally, you can add it to a play just like you can with roles you wrote. Installing Miniconda is now as simple as:\n",
    "\n",
    "```\n",
    "  roles:\n",
    "    - role: andrewrothstein.miniconda\n",
    "```\n",
    "\n",
    "Before we add that to a playbook, I want to customize _where_ miniconda is installed. If you look back at the `main.yml` file above, you see a bunch of things surrounded in double brackets. These are variables (in the [Jinja2 template language](http://jinja.pocoo.org/docs/2.9/)). From the play, we can see that Miniconda will be installed at `{{miniconda_parent_dir}}/{{miniconda_name}}`. The role defines these variables in `/andrewrothstein.miniconda/defaults/main.yml`. We can override the default variables by specifying them in our play. \n",
    "\n",
    "A play to install miniconda could look like this:\n",
    "\n",
    "```\n",
    "---\n",
    "- hosts: digitalocean\n",
    "  vars:\n",
    "    conda_folder_name: miniconda\n",
    "    conda_root: /root\n",
    "  roles:\n",
    "    - role: andrewrothstein.miniconda\n",
    "      miniconda_parent_dir: \"{{ conda_root }}\"\n",
    "      miniconda_name: \"{{ conda_folder_name }}\"\n",
    "```\n",
    "\n",
    "I added this to [`playbook.yml`](https://github.com/tdhopper/automating_python/blob/master/playbook.yml). \n",
    "\n",
    "We now know how to use Ansible to start and run supervisord and to install Miniconda. Let's see how to use it to deploy and start our application.\n",
    "\n",
    "### Deploy Python Application\n",
    "\n",
    "There are countless ways to deploy a Python application. We're going to see how to use Ansible to deploy from Github.\n",
    "\n",
    "I created a little project called [long_running_python_application](https://github.com/tdhopper/long_running_python_process). It has a [`main.py`](https://github.com/tdhopper/long_running_python_process/blob/master/main.py) that writes a log line to stdout every 30 seconds; that's it. It also includes a [Conda environment file](https://github.com/tdhopper/long_running_python_process/blob/master/environment.yml) specifying the dependencies and [a shell script](https://github.com/tdhopper/long_running_python_process/blob/master/run.sh) that activates the environment and runs the program. \n",
    "\n",
    "We're going to use Ansible to \n",
    "\n",
    "1. Clone the repository into our remote machine.\n",
    "2. Create a Conda environment based on the environment.yml file. \n",
    "3. Create a supervisord file for running the program.\n",
    "4. Start the supervisord job.\n",
    "\n",
    "#### Clone the repository\n",
    "\n",
    "Cloning a repository with Ansible is easy. We just use the [`git` module](http://docs.ansible.com/ansible/git_module.html). This play will clone the repo into the specified directory. The `update: yes` flag tells Ansible to update the repository from the remote if it has already been cloned. \n",
    "\n",
    "```\n",
    "---\n",
    "- hosts: digitalocean\n",
    "  vars:\n",
    "    project_repo: git://github.com/tdhopper/long_running_python_process.git\n",
    "    project_location: /srv/long_running_python_process\n",
    "  tasks:\n",
    "    - name: Clone project code.\n",
    "      git:\n",
    "        repo: \"{{ project_repo }}\"\n",
    "        dest: \"{{ project_location }}\"\n",
    "        update: yes\n",
    "```\n",
    "\n",
    "#### Creating the Conda Environment\n",
    "\n",
    "Since we've now installed conda and cloned the repository with an `environment.yml` file, we just need to run `conda env update` from the directory containing the environment spec. Here's a play to do that:\n",
    "\n",
    "\n",
    "```\n",
    "---\n",
    "- hosts: digitalocean\n",
    "  vars:\n",
    "    project_location: /srv/long_running_python_process\n",
    "  tasks:\n",
    "    - name: Create Conda environment from project environment file.\n",
    "      command: \"{{conda_root}}/{{conda_folder_name}}/bin/conda env update\"\n",
    "      args:\n",
    "        chdir: \"{{ project_location }}\"\n",
    "```\n",
    "\n",
    "It uses the [`command` module](http://docs.ansible.com/ansible/command_module.html) which just executes a shell command in the desired directory. \n",
    "\n",
    "#### Create a Supervisord File\n",
    "\n",
    "By default, supervisord will [look in `/etc/supervisor/conf.d/` for configuration](http://supervisord.org/configuration.html) on which programs to run. \n",
    "\n",
    "We need to put a file in there that tells supervisord to run our `run.sh` script. Ansible has an integrated way of setting up templates which can be placed on remote machines. \n",
    "\n",
    "I put a supervisord job template in the `./templates` folder."
   ]
  },
  {
   "cell_type": "code",
   "execution_count": 17,
   "metadata": {
    "collapsed": false,
    "deletable": true,
    "editable": true
   },
   "outputs": [
    {
     "name": "stdout",
     "output_type": "stream",
     "text": [
      "cat ./templates/run_process.j2\n",
      "[program:{{ program_name }}]\n",
      "command=sh run.sh\n",
      "autostart=true\n",
      "directory={{ project_location }}\n",
      "stderr_logfile=/var/log/{{ program_name }}.err.log\n",
      "stdout_logfile=/var/log/{{ program_name }}.out.log\n"
     ]
    },
    {
     "ename": "",
     "evalue": "1",
     "output_type": "error",
     "traceback": []
    }
   ],
   "source": [
    "cat ./templates/run_process.j2"
   ]
  },
  {
   "cell_type": "markdown",
   "metadata": {
    "deletable": true,
    "editable": true
   },
   "source": [
    "This is a is normal INI-style config file, except it includes Jinja2 variables. We can use the Ansible [`template` module](http://docs.ansible.com/ansible/template_module.html) to create a task which fills in the variables with information about our program and copies it into the `conf.d` folder on the remote machine.\n",
    "\n",
    "The play for this would look like:\n",
    "\n",
    "```\n",
    "- hosts: digitalocean\n",
    "  vars:\n",
    "    project_location: /srv/long_running_python_process\n",
    "    program_name: long_running_process\n",
    "    supervisord_configs_path: /etc/supervisor/conf.d\n",
    "  tasks:\n",
    "    - name: Copy supervisord job file to remote\n",
    "      template:\n",
    "        src: ./templates/run_process.j2\n",
    "        dest: \"{{ supervisord_configs_path }}/run_process.conf\"\n",
    "        owner: root\n",
    "```\n",
    "\n",
    "#### Start the supevisord job\n",
    "\n",
    "Finally, we just need to tell supervisord on our remote machine to start the job described by `run_process.conf`.\n",
    "\n",
    "Instead of issuing our own shell commands via Ansible, we can use the [`supervisorctl` module](http://docs.ansible.com/ansible/supervisorctl_module.html). The task is just:\n",
    "\n",
    "```\n",
    "    - name: Start job\n",
    "      supervisorctl:\n",
    "        name: \"{{ program_name }}\"\n",
    "        state: present\n",
    "```\n",
    "\n",
    "`state: present` ensures that Ansible calls `supervisorctl reread` to load a new config. Because our config has `autostart=true`, supervisor will start it as soon as the task is added. \n",
    "\n",
    "### The Big Playbook!\n",
    "\n",
    "We can take everything we've described above and put it in one playbook. \n",
    "\n",
    "This playbook will:\n",
    "\n",
    "* Install Miniconda using the role from Ansible Galaxy.\n",
    "* Install and start Supervisor using the role we created. \n",
    "* Clone the Github project we want to run. \n",
    "* Create a Conda environment based on the environment.yml file. \n",
    "* Create a supervisord file for running the program.\n",
    "* Start the supervisord job.\n",
    "\n",
    "All of this will be done on the host we specify (`digitalocean`)."
   ]
  },
  {
   "cell_type": "code",
   "execution_count": 18,
   "metadata": {
    "collapsed": false,
    "deletable": true,
    "editable": true
   },
   "outputs": [
    {
     "name": "stdout",
     "output_type": "stream",
     "text": [
      "cat playbook.yml\n",
      "---\n",
      "- hosts: digitalocean\n",
      "  vars:\n",
      "    project_repo: git://github.com/tdhopper/long_running_python_process.git\n",
      "    project_location: /srv/long_running_python_process\n",
      "    program_name: long_running_process\n",
      "    conda_folder_name: miniconda\n",
      "    conda_root: /root\n",
      "    supervisord_configs_path: /etc/supervisor/conf.d\n",
      "  roles:\n",
      "    - role: andrewrothstein.miniconda\n",
      "      miniconda_parent_dir: \"{{ conda_root }}\"\n",
      "      miniconda_name: \"{{ conda_folder_name }}\"\n",
      "      tags:\n",
      "        miniconda\n",
      "    - role: supervisor\n",
      "  tasks:\n",
      "    - name: Clone project code.\n",
      "      git:\n",
      "        repo: \"{{ project_repo }}\"\n",
      "        dest: \"{{ project_location }}\"\n",
      "        update: yes\n",
      "      tags:\n",
      "        git\n",
      "    - name: Create Conda environment from project environment file.\n",
      "      command: \"{{conda_root}}/{{conda_folder_name}}/bin/conda env update\"\n",
      "      args:\n",
      "        chdir: \"{{ project_location }}\"\n",
      "      tags:\n",
      "        conda\n",
      "    - name: Copy supervisord job file to remote\n",
      "      template:\n",
      "        src: ./templates/run_process.j2\n",
      "        dest: \"{{ supervisord_configs_path }}/run_process.conf\"\n",
      "        owner: root\n",
      "      tags:\n",
      "        conf\n",
      "    - name: Start job\n",
      "      supervisorctl:\n",
      "        name: \"{{ program_name }}\"\n",
      "        state: present\n",
      "      tags:\n",
      "        conf"
     ]
    },
    {
     "ename": "",
     "evalue": "1",
     "output_type": "error",
     "traceback": []
    }
   ],
   "source": [
    "cat playbook.yml"
   ]
  },
  {
   "cell_type": "markdown",
   "metadata": {
    "deletable": true,
    "editable": true
   },
   "source": [
    "To configure our machine, we just have to run `ansible-playbook playbook.yml`. "
   ]
  },
  {
   "cell_type": "code",
   "execution_count": 19,
   "metadata": {
    "collapsed": false,
    "deletable": true,
    "editable": true
   },
   "outputs": [
    {
     "name": "stdout",
     "output_type": "stream",
     "text": [
      "ANSIBLE_NOCOWS=1 ansible-playbook playbook.yml\n",
      "\n",
      "PLAY [digitalocean] ************************************************************\n",
      "\n",
      "TASK [setup] *******************************************************************\n",
      "\u001b[0;32mok: [digitalocean]\u001b[0m\n",
      "\n",
      "TASK [andrewrothstein.unarchive-deps : resolve platform specific vars] *********\n",
      "\n",
      "TASK [andrewrothstein.unarchive-deps : install common pkgs...] *****************\n",
      "\u001b[0;33mchanged: [digitalocean] => (item=[u'tar', u'unzip', u'gzip', u'bzip2'])\u001b[0m\n",
      "\n",
      "TASK [andrewrothstein.bash : install bash] *************************************\n",
      "\u001b[0;32mok: [digitalocean]\u001b[0m\n",
      "\n",
      "TASK [andrewrothstein.alpine-glibc-shim : fix alpine] **************************\n",
      "\u001b[0;36mskipping: [digitalocean]\u001b[0m\n",
      "\n",
      "TASK [andrewrothstein.miniconda : download installer...] ***********************\n",
      "\u001b[0;33mchanged: [digitalocean]\u001b[0m\n",
      "\n",
      "TASK [andrewrothstein.miniconda : installing....] ******************************\n",
      "\u001b[0;33mchanged: [digitalocean]\u001b[0m\n",
      "\n",
      "TASK [andrewrothstein.miniconda : deleting installer...] ***********************\n",
      "\u001b[0;36mskipping: [digitalocean]\u001b[0m\n",
      "\n",
      "TASK [andrewrothstein.miniconda : link miniconda...] ***************************\n",
      "\u001b[0;33mchanged: [digitalocean]\u001b[0m\n",
      "\n",
      "TASK [andrewrothstein.miniconda : conda updates] *******************************\n",
      "\u001b[0;33mchanged: [digitalocean]\u001b[0m\n",
      "\n",
      "TASK [andrewrothstein.miniconda : make system default python etc...] ***********\n",
      "\u001b[0;36mskipping: [digitalocean] => (item=etc/profile.d/miniconda.sh) \u001b[0m\n",
      "\n",
      "TASK [supervisor : Install supervisord] ****************************************\n",
      "\u001b[0;32mok: [digitalocean]\u001b[0m\n",
      "\n",
      "TASK [supervisor : Start supervisord] ******************************************\n",
      "\u001b[0;32mok: [digitalocean]\u001b[0m\n",
      "\n",
      "TASK [Clone project code.] *****************************************************\n",
      "\u001b[0;33mchanged: [digitalocean]\u001b[0m\n",
      "\n",
      "TASK [Create Conda environment from project environment file.] *****************\n",
      "\u001b[0;33mchanged: [digitalocean]\u001b[0m\n",
      "\n",
      "TASK [Copy supervisord job file to remote] *************************************\n",
      "\u001b[0;33mchanged: [digitalocean]\u001b[0m\n",
      "\n",
      "TASK [Start job] ***************************************************************\n",
      "\u001b[0;33mchanged: [digitalocean]\u001b[0m\n",
      "\n",
      "PLAY RECAP *********************************************************************\n",
      "\u001b[0;33mdigitalocean\u001b[0m               : \u001b[0;32mok\u001b[0m\u001b[0;32m=\u001b[0m\u001b[0;32m13\u001b[0m   \u001b[0;33mchanged\u001b[0m\u001b[0;33m=\u001b[0m\u001b[0;33m9\u001b[0m    unreachable=0    failed=0   \n",
      "\n"
     ]
    },
    {
     "ename": "",
     "evalue": "1",
     "output_type": "error",
     "traceback": []
    }
   ],
   "source": [
    "ANSIBLE_NOCOWS=1 ansible-playbook playbook.yml"
   ]
  },
  {
   "cell_type": "markdown",
   "metadata": {
    "deletable": true,
    "editable": true
   },
   "source": [
    "See that the `PLAY RECAP` shows that everything was OK, no systems were unreachable, and no tasks failed. \n",
    "\n",
    "We can verify that the program is running without error:"
   ]
  },
  {
   "cell_type": "code",
   "execution_count": 20,
   "metadata": {
    "collapsed": false,
    "deletable": true,
    "editable": true
   },
   "outputs": [
    {
     "name": "stdout",
     "output_type": "stream",
     "text": [
      "ssh digitalocean sudo supervisorctl status\n",
      "long_running_process             RUNNING   pid 4618, uptime 0:01:34\n"
     ]
    },
    {
     "ename": "",
     "evalue": "1",
     "output_type": "error",
     "traceback": []
    }
   ],
   "source": [
    "ssh digitalocean sudo supervisorctl status"
   ]
  },
  {
   "cell_type": "code",
   "execution_count": 21,
   "metadata": {
    "collapsed": false,
    "deletable": true,
    "editable": true
   },
   "outputs": [
    {
     "name": "stdout",
     "output_type": "stream",
     "text": [
      "ssh digitalocean cat /var/log/long_running_process.out.log\n",
      "INFO:root:Process ran for the 1th time\n",
      "INFO:root:Process ran for the 2th time\n",
      "INFO:root:Process ran for the 3th time\n",
      "INFO:root:Process ran for the 4th time\n"
     ]
    },
    {
     "ename": "",
     "evalue": "1",
     "output_type": "error",
     "traceback": []
    }
   ],
   "source": [
    "ssh digitalocean cat /var/log/long_running_process.out.log"
   ]
  },
  {
   "cell_type": "markdown",
   "metadata": {
    "deletable": true,
    "editable": true
   },
   "source": [
    "If your lucky (i.e. your systems and networks were setup sufficiently similar to mine), you can run this exact same command to configure and start a process on your own system. Moreover, you could use this exact same command to start this program on an arbitrary number of machines by simply adding more hosts to your inventory and play spec! \n",
    "\n",
    "### Conclusion\n",
    "\n",
    "Ansible is a powerful, customizable tool. Unlike some similar tools, it requires very little setup to start using it. As I've learned more about it, I've seen more and more ways in which I could've used it in copious projects in the past; I intend to make it a regular part of my toolkit. (Historically I've done this kind of thing with hacky combinations of shell scripts and [Fabric](http://www.fabfile.org/); Ansible would often be better.)\n",
    "\n",
    "This tutorial just scratches the surface of the Ansible functionality. If you want to learn more, I again recommend reading through the [docs](http://docs.ansible.com/ansible/index.html); they're very good. Of course, you should start writing and running your own playbooks as soon as possible! I also liked [this tutorial from Server Admin for Programmers](https://serversforhackers.com/an-ansible-tutorial). If you want to compare Ansible to alternatives, the [Taste Test book](https://valdhaus.co/books/taste-test-puppet-chef-salt-stack-ansible.html) by Matt Jaynes looks promising. For more on Supervisor, [serversforhackers.com](https://serversforhackers.com/monitoring-processes-with-supervisord) has a nice tutorial, and [its docs are thorough](http://supervisord.org/).\n",
    "\n",
    "<blockquote class=\"twitter-tweet\" data-conversation=\"none\" data-cards=\"hidden\" data-lang=\"en\"><p lang=\"en\" dir=\"ltr\">I wrote a tutorial on using <a href=\"https://twitter.com/ansible\">@ansible</a> and supervisor to deploy a long running Python process to a <a href=\"https://twitter.com/digitalocean\">@digitalocean</a> VPS.<a href=\"https://t.co/uPC8bY5haD\">https://t.co/uPC8bY5haD</a></p>&mdash; Tim Hopper 🔭 (@tdhopper) <a href=\"https://twitter.com/tdhopper/status/845256769429483520\">March 24, 2017</a></blockquote><script async src=\"//platform.twitter.com/widgets.js\" charset=\"utf-8\"></script>"
   ]
  }
 ],
 "metadata": {
  "kernelspec": {
   "display_name": "Bash",
   "language": "bash",
   "name": "bash"
  },
  "language_info": {
   "codemirror_mode": "shell",
   "file_extension": ".sh",
   "mimetype": "text/x-sh",
   "name": "bash"
  }
 },
 "nbformat": 4,
 "nbformat_minor": 2
}
